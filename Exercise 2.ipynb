{
 "cells": [
  {
   "cell_type": "markdown",
   "metadata": {},
   "source": [
    "# Secure Software Engineering Exercise 2"
   ]
  },
  {
   "cell_type": "markdown",
   "metadata": {},
   "source": [
    "## Name: Nipuna H Herath"
   ]
  },
  {
   "cell_type": "markdown",
   "metadata": {},
   "source": [
    "## ID: A1776057"
   ]
  },
  {
   "cell_type": "markdown",
   "metadata": {},
   "source": []
  },
  {
   "cell_type": "code",
   "execution_count": 140,
   "metadata": {},
   "outputs": [],
   "source": [
    "import numpy as np\n",
    "import pandas as pd\n",
    "import os\n",
    "\n",
    "# Specify git executable file for GitPython in Jupyter Notebook (In IDE, it can still work without this line.)\n",
    "# os.environ[\"GIT_PYTHON_GIT_EXECUTABLE\"] = \"C:\\Program Files\\Git\\cmd\\git.exe\"\n",
    "\n",
    "import git\n",
    "import re\n",
    "# from git import RemoteProgress\n",
    "\n",
    "from git import Repo\n",
    "import matplotlib.pyplot as plt\n",
    "import seaborn as sns\n",
    "%matplotlib inline"
   ]
  },
  {
   "cell_type": "markdown",
   "metadata": {},
   "source": [
    "### 1. FasterXML/jackson-databind"
   ]
  },
  {
   "attachments": {},
   "cell_type": "markdown",
   "metadata": {},
   "source": [
    "##### a) Message and title of the fixing commit."
   ]
  },
  {
   "cell_type": "code",
   "execution_count": 141,
   "metadata": {},
   "outputs": [
    {
     "name": "stdout",
     "output_type": "stream",
     "text": [
      "\u001b[1;31mCommit Title:\u001b[0m    Fix #1599 for 2.8.9\n",
      "\u001b[1;31mCommit Message:\u001b[0m    Merge branch '2.7' into 2.8\n"
     ]
    }
   ],
   "source": [
    "remote_link = \"https://github.com/FasterXML/jackson-databind\"\n",
    "local_link = \"jackson-databind\"\n",
    "\n",
    "repo = Repo(local_link)\n",
    "fixing_commit = \"60d459cedcf079c6106ae7da2ac562bc32dcabe1\"\n",
    "show_data = repo.git.show(\"--shortstat\", fixing_commit).splitlines()\n",
    "# for line in show_data:\n",
    "#     print(line)\n",
    "# commit = repo.commit(fixing_commit)\n",
    "\n",
    "print('\\x1b[1;31m'+\"Commit Title:\"+'\\x1b[0m'+show_data[5])\n",
    "print('\\x1b[1;31m'+\"Commit Message:\"+'\\x1b[0m'+show_data[7])"
   ]
  },
  {
   "cell_type": "markdown",
   "metadata": {},
   "source": [
    "##### b) Number of affected files"
   ]
  },
  {
   "cell_type": "code",
   "execution_count": 142,
   "metadata": {},
   "outputs": [
    {
     "name": "stdout",
     "output_type": "stream",
     "text": [
      "\u001b[1;31mAffected Files:\u001b[0m3\n"
     ]
    }
   ],
   "source": [
    "commit = repo.commit(fixing_commit)\n",
    "s = commit.stats\n",
    "# s.total         # full-stat-dict\n",
    "# s.files         # dict( filepath : stat-dict )\n",
    "# print(s.total) # Overall statistics\n",
    "# print(s.files) # List all the files\n",
    "print('\\x1b[1;31m'+\"Affected Files:\"+'\\x1b[0m'+ str(s.total[\"files\"]))"
   ]
  },
  {
   "cell_type": "markdown",
   "metadata": {},
   "source": [
    "##### c) Number of affected directories"
   ]
  },
  {
   "cell_type": "code",
   "execution_count": 156,
   "metadata": {},
   "outputs": [
    {
     "name": "stdout",
     "output_type": "stream",
     "text": [
      "\u001b[1;31mDeleted directories:\u001b[0m\n",
      "release-notes\n",
      "src/main/java/com/fasterxml/jackson/databind/deser\n",
      "src/test/java/com/fasterxml/jackson/databind/interop\n",
      "\n",
      "\u001b[1;31mTotal:\u001b[0m\n",
      "3\n"
     ]
    }
   ],
   "source": [
    "# print(s.total) # Overall statistics\n",
    "# print(s.files) # List all the files\n",
    "files = s.files\n",
    "directoryList = []\n",
    "for file in files.keys():\n",
    "    directory = file[0:file.rfind('/')]\n",
    "#     print(directory)\n",
    "    if directory not in directoryList:\n",
    "        directoryList.append(directory)\n",
    "print('\\x1b[1;31m'+\"Deleted directories:\"+'\\x1b[0m')\n",
    "for directory in directoryList:\n",
    "    print(directory)\n",
    "print()\n",
    "print('\\x1b[1;31m'+\"Total:\"+'\\x1b[0m')\n",
    "print(len(directoryList))\n",
    "    "
   ]
  },
  {
   "cell_type": "markdown",
   "metadata": {},
   "source": [
    "##### d) Total lines of code (including comments and blank lines) deleted"
   ]
  },
  {
   "cell_type": "code",
   "execution_count": 148,
   "metadata": {},
   "outputs": [
    {
     "name": "stdout",
     "output_type": "stream",
     "text": [
      "\u001b[1;31mDeletions including blank lines:\u001b[0m1\n"
     ]
    }
   ],
   "source": [
    "diff_data = repo.git.diff(fixing_commit + \"^\", fixing_commit).splitlines()\n",
    "count = 0\n",
    "for line in diff_data:\n",
    "    if(not line[0:3] == '---'):\n",
    "        if(line[0:1] == '-'):\n",
    "            count=count+1\n",
    "print('\\x1b[1;31m'+\"Deletions including blank lines:\"+'\\x1b[0m'+str(count))"
   ]
  },
  {
   "attachments": {},
   "cell_type": "markdown",
   "metadata": {},
   "source": [
    "##### e) Total lines of code (including comments and blank lines) added"
   ]
  },
  {
   "cell_type": "code",
   "execution_count": 213,
   "metadata": {},
   "outputs": [
    {
     "name": "stdout",
     "output_type": "stream",
     "text": [
      "\u001b[1;31mInsertions including blank lines:\u001b[0m91\n"
     ]
    }
   ],
   "source": [
    "diff_data = repo.git.diff(fixing_commit + \"^\", fixing_commit).splitlines()\n",
    "count = 0\n",
    "for line in diff_data:\n",
    "    if(not line[0:3] == '+++'):\n",
    "        if(line[0:1] == '+'):\n",
    "            count=count+1\n",
    "print('\\x1b[1;31m'+\"Insertions including blank lines:\"+'\\x1b[0m'+str(count))"
   ]
  },
  {
   "cell_type": "markdown",
   "metadata": {},
   "source": [
    "##### f) Total lines of code (excluding comments and blank lines) deleted"
   ]
  },
  {
   "cell_type": "code",
   "execution_count": 216,
   "metadata": {},
   "outputs": [
    {
     "name": "stdout",
     "output_type": "stream",
     "text": [
      "\u001b[1;31mDeletions excluding blank lines and comments:\u001b[0m0\n"
     ]
    }
   ],
   "source": [
    "diff_data = repo.git.diff(\"-w\",fixing_commit + \"^\", fixing_commit).splitlines()\n",
    "count = 0\n",
    "comment_started = False\n",
    "for line in diff_data:\n",
    "    if(not line[0:3] == '---'):\n",
    "        if(line.find('/*') != -1):\n",
    "            comment_started = True\n",
    "            continue\n",
    "        elif(line.find('*/') != -1):\n",
    "            comment_started = False\n",
    "            continue\n",
    "#             else:\n",
    "#             print(line + str(comment_started))\n",
    "        if(comment_started==False):\n",
    "            if(line[0:1] == '-' and not re.search(r'\\s', line) is None):\n",
    "                if(line.find('//') == -1):\n",
    "#                     print(line)\n",
    "                    count=count+1\n",
    "    \n",
    "print('\\x1b[1;31m'+\"Deletions excluding blank lines and comments:\"+'\\x1b[0m'+ str(count))"
   ]
  },
  {
   "cell_type": "markdown",
   "metadata": {},
   "source": [
    "##### g) Total lines of code (excluding comments and blank lines) added"
   ]
  },
  {
   "cell_type": "code",
   "execution_count": 217,
   "metadata": {},
   "outputs": [
    {
     "name": "stdout",
     "output_type": "stream",
     "text": [
      "\u001b[1;31mInsertions excluding blank lines and comments:\u001b[0m0\n"
     ]
    }
   ],
   "source": [
    "diff_data = repo.git.diff(\"-w\",fixing_commit + \"^\", fixing_commit).splitlines()\n",
    "count = 0\n",
    "comment_started = False\n",
    "for line in diff_data:\n",
    "    if(not line[0:3] == '+++'):\n",
    "        if(line.find('/*') != -1):\n",
    "            comment_started = True\n",
    "            continue\n",
    "        elif(line.find('*/') != -1):\n",
    "            comment_started = False\n",
    "            continue\n",
    "#             else:\n",
    "#             print(line + str(comment_started))\n",
    "        if(comment_started==False):\n",
    "            if(line[0:1] == '+' and not re.search(r'\\s', line) is None):\n",
    "                if(line.find('//') == -1):\n",
    "#                     print(line)\n",
    "                    count=count+1\n",
    "\n",
    "                \n",
    "print('\\x1b[1;31m'+\"Insertions excluding blank lines and comments:\"+'\\x1b[0m'+str(count))"
   ]
  },
  {
   "attachments": {},
   "cell_type": "markdown",
   "metadata": {},
   "source": [
    "##### h) Days were between the current fixing commit and the previous commit"
   ]
  },
  {
   "cell_type": "code",
   "execution_count": 254,
   "metadata": {},
   "outputs": [
    {
     "name": "stdout",
     "output_type": "stream",
     "text": [
      "\u001b[1;31mFile Name: \u001b[0mrelease-notes/VERSION\n",
      "\u001b[1;31mCurrent Commit Date\\Time: \u001b[0m2017-04-13 16:03:24\n",
      "\u001b[1;31mPrevious Commit Date\\Time: \u001b[0m2017-04-13 15:08:10\n",
      "\u001b[1;31mTime Difference: \u001b[0m0:55:14\n",
      "===\n",
      "\u001b[1;31mFile Name: \u001b[0msrc/main/java/com/fasterxml/jackson/databind/deser/BeanDeserializerFactory.java\n",
      "\u001b[1;31mCurrent Commit Date\\Time: \u001b[0m2017-04-13 16:03:24\n",
      "\u001b[1;31mPrevious Commit Date\\Time: \u001b[0m2017-04-13 15:08:10\n",
      "\u001b[1;31mTime Difference: \u001b[0m0:55:14\n",
      "===\n",
      "\u001b[1;31mFile Name: \u001b[0msrc/test/java/com/fasterxml/jackson/databind/interop/IllegalTypesCheckTest.java\n",
      "\u001b[1;31mCurrent Commit Date\\Time: \u001b[0m2017-04-13 15:08:10\n",
      "\u001b[1;31mThis file has only one commit.\u001b[0m\n"
     ]
    }
   ],
   "source": [
    "# blame_data = repo.git.blame(\"-L113,+1\", fixing_commit + \"^\", \"--\", \"src/main/java/com/fasterxml/jackson/databind/deser/BeanDeserializerFactory.java\").splitlines()\n",
    "# for line in blame_data:\n",
    "#     print(line)\n",
    "# last_commit = blame_data[0].strip().split()[0]\n",
    "from datetime import datetime\n",
    "from datetime import date\n",
    "# print(\"Number of commits in between:\", len(log_data))\n",
    "for file in files:   \n",
    "    print('\\x1b[1;31m'+\"File Name: \"+'\\x1b[0m'+file)\n",
    "    log_data = repo.git.log(fixing_commit,file).splitlines()\n",
    "    commit_number = 0\n",
    "    date1 = datetime.now()\n",
    "    date2 = datetime.now()\n",
    "    for line in log_data:\n",
    "        if(line[0:8] == \"Date:   \"):\n",
    "            commit_number=commit_number+1\n",
    "            if(commit_number ==1):\n",
    "                date1 = datetime.strptime(line[8:32], '%a %b %d %H:%M:%S %Y')\n",
    "                print('\\x1b[1;31m'+\"Current Commit Date\\Time: \"+'\\x1b[0m'+str(date1))\n",
    "                continue\n",
    "            if(commit_number ==2):\n",
    "                date2 = datetime.strptime(line[8:32], '%a %b %d %H:%M:%S %Y')\n",
    "                print('\\x1b[1;31m'+\"Previous Commit Date\\Time: \"+'\\x1b[0m'+str(date2))\n",
    "                break\n",
    "    if(commit_number == 1):\n",
    "        print('\\x1b[1;31m'+\"This file has only one commit.\"+'\\x1b[0m')\n",
    "    else:\n",
    "        print('\\x1b[1;31m'+\"Time Difference: \"+'\\x1b[0m'+str(date1-date2))\n",
    "        print(\"===\")\n"
   ]
  },
  {
   "cell_type": "code",
   "execution_count": null,
   "metadata": {},
   "outputs": [],
   "source": [
    "##### i) Number of times each affected file of the current fixing commit been modified"
   ]
  },
  {
   "cell_type": "code",
   "execution_count": 293,
   "metadata": {},
   "outputs": [
    {
     "name": "stdout",
     "output_type": "stream",
     "text": [
      "\u001b[1;31mFile Name: \u001b[0mrelease-notes/VERSION\n",
      "\u001b[1;31mNumber of Revisions including renaming: \u001b[0m845\n",
      "====\n",
      "\u001b[1;31mFile Name: \u001b[0msrc/main/java/com/fasterxml/jackson/databind/deser/BeanDeserializerFactory.java\n",
      "\u001b[1;31mNumber of Revisions including renaming: \u001b[0m119\n",
      "====\n",
      "\u001b[1;31mFile Name: \u001b[0msrc/test/java/com/fasterxml/jackson/databind/interop/IllegalTypesCheckTest.java\n",
      "\u001b[1;31mNumber of Revisions including renaming: \u001b[0m1\n",
      "====\n"
     ]
    }
   ],
   "source": [
    "for file in files:   \n",
    "    print('\\x1b[1;31m'+\"File Name: \"+'\\x1b[0m'+file)\n",
    "    log_data = repo.git.log(fixing_commit,\"--pretty=\\\"format:%H%M%S\\\"\", \"--\",file).splitlines()\n",
    "    print('\\x1b[1;31m'+\"Number of Revisions including renaming: \"+'\\x1b[0m'+str(len(log_data)))\n",
    "    print(\"====\")\n",
    "#     for line in log_data:\n",
    "#         print(line)\n",
    "#     break\n",
    "# path = \"src/main/java/com/fasterxml/jackson/databind/deser/BeanDeserializerFactory.java\"\n",
    "# revlist = (\n",
    "#     (commit, (commit.tree / path).data_stream.read())\n",
    "#     for commit in repo.iter_commits(paths=path)\n",
    "# )\n",
    "\n",
    "# for commit, filecontents in revlist:\n",
    "#     print(commit.message)\n",
    "#     print(\"====\")\n",
    "# #     print(commit)"
   ]
  },
  {
   "attachments": {},
   "cell_type": "markdown",
   "metadata": {},
   "source": [
    "##### j) Developers that have modified each affected files since creation"
   ]
  },
  {
   "cell_type": "code",
   "execution_count": 302,
   "metadata": {},
   "outputs": [
    {
     "name": "stdout",
     "output_type": "stream",
     "text": [
      "\u001b[1;31mFile Name: \u001b[0mrelease-notes/VERSION\n",
      "\u001b[1;31mContributors of the file: \u001b[0m\n",
      "Cowtowncoder\n",
      "Tatu\n",
      "Tatu Saloranta\n",
      "jackphel\n",
      "\n",
      "\u001b[1;31mFile Name: \u001b[0msrc/main/java/com/fasterxml/jackson/databind/deser/BeanDeserializerFactory.java\n",
      "\u001b[1;31mContributors of the file: \u001b[0m\n",
      "Cowtowncoder\n",
      "LokeshN\n",
      "Pascal Gélinas\n",
      "Tatu\n",
      "Tatu Saloranta\n",
      "\n",
      "\u001b[1;31mFile Name: \u001b[0msrc/test/java/com/fasterxml/jackson/databind/interop/IllegalTypesCheckTest.java\n",
      "\u001b[1;31mContributors of the file: \u001b[0m\n",
      "Tatu Saloranta\n",
      "\n"
     ]
    }
   ],
   "source": [
    "for file in files:   \n",
    "    print('\\x1b[1;31m'+\"File Name: \"+'\\x1b[0m'+file)\n",
    "    print('\\x1b[1;31m'+\"Contributors of the file: \"+'\\x1b[0m')\n",
    "    log_data = repo.git.log(fixing_commit,\"--pretty=format:%an\", \"--follow\", \"--\",file).splitlines()\n",
    "#     print('\\x1b[1;31m'+\"Number of Revisions including renaming: \"+'\\x1b[0m'+str(len(log_data)))\n",
    "#     print(log_data)\n",
    "    x = np.array(log_data) \n",
    "    uniqueNames = np.unique(x)\n",
    "    for name in uniqueNames:\n",
    "        print(name) \n",
    "    print()"
   ]
  },
  {
   "cell_type": "markdown",
   "metadata": {},
   "source": [
    "##### k) Observations about the developers"
   ]
  },
  {
   "cell_type": "code",
   "execution_count": 314,
   "metadata": {},
   "outputs": [
    {
     "name": "stdout",
     "output_type": "stream",
     "text": [
      "\u001b[1;34mAccording to the number of commits of the developers, we can see the majority of the developers are new.\u001b[0m\n",
      "\u001b[1;34mThe number of developers with at least 450 commits is 3.\u001b[0m\n",
      "\u001b[1;34mThe number of developers with less than 450 commits is 197.\u001b[0m\n"
     ]
    }
   ],
   "source": [
    "commit_authors = repo.git.shortlog(\"-sne\", \"--all\").splitlines()\n",
    "\n",
    "author_commits = []\n",
    "\n",
    "for commit_author in commit_authors:\n",
    "    commit, author = commit_author.split(\"\\t\")\n",
    "    author_commits.append([int(commit), author])\n",
    "devs_above_450 = 0\n",
    "devs_below_450 = 0\n",
    "for item in author_commits:\n",
    "    if(item[0]>=450):\n",
    "        devs_above_450 = devs_above_450+1\n",
    "    else:\n",
    "        devs_below_450 = devs_below_450+1\n",
    "exp_level=\"new\"\n",
    "if(devs_above_450>devs_below_450):\n",
    "    exp_level = \"experienced\"\n",
    "    \n",
    "print('\\x1b[1;34m'+\"According to the number of commits of the developers, we can see the majority of the developers are \"+exp_level+\".\"+'\\x1b[0m')\n",
    "print('\\x1b[1;34m'+\"The number of developers with at least 450 commits is \"+str(devs_above_450)+\".\"+'\\x1b[0m')\n",
    "print('\\x1b[1;34m'+\"The number of developers with less than 450 commits is \"+str(devs_below_450)+\".\"+'\\x1b[0m')\n",
    "\n"
   ]
  },
  {
   "cell_type": "code",
   "execution_count": null,
   "metadata": {},
   "outputs": [],
   "source": []
  }
 ],
 "metadata": {
  "kernelspec": {
   "display_name": "Python 3",
   "language": "python",
   "name": "python3"
  },
  "language_info": {
   "codemirror_mode": {
    "name": "ipython",
    "version": 3
   },
   "file_extension": ".py",
   "mimetype": "text/x-python",
   "name": "python",
   "nbconvert_exporter": "python",
   "pygments_lexer": "ipython3",
   "version": "3.7.4"
  }
 },
 "nbformat": 4,
 "nbformat_minor": 2
}
